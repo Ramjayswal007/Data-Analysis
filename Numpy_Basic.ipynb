{
 "cells": [
  {
   "cell_type": "code",
   "execution_count": 16,
   "id": "c6469daf",
   "metadata": {
    "ExecuteTime": {
     "end_time": "2022-11-29T05:56:39.812880Z",
     "start_time": "2022-11-29T05:56:28.747516Z"
    }
   },
   "outputs": [
    {
     "name": "stdout",
     "output_type": "stream",
     "text": [
      "Requirement already satisfied: numpy in c:\\users\\ram jayswal\\anaconda3\\lib\\site-packages (1.21.5)\n"
     ]
    }
   ],
   "source": [
    "!pip install numpy\n",
    "\n",
    "import numpy as np"
   ]
  },
  {
   "cell_type": "code",
   "execution_count": 17,
   "id": "a675e3fa",
   "metadata": {
    "ExecuteTime": {
     "end_time": "2022-11-29T05:56:39.844905Z",
     "start_time": "2022-11-29T05:56:39.823880Z"
    }
   },
   "outputs": [
    {
     "data": {
      "text/plain": [
       "numpy.ndarray"
      ]
     },
     "execution_count": 17,
     "metadata": {},
     "output_type": "execute_result"
    }
   ],
   "source": [
    "# Array Creation\n",
    "\n",
    "a = np.array(10)\n",
    "type(a)"
   ]
  },
  {
   "cell_type": "code",
   "execution_count": 4,
   "id": "d461b4e6",
   "metadata": {
    "ExecuteTime": {
     "end_time": "2022-11-29T05:44:14.460758Z",
     "start_time": "2022-11-29T05:44:14.441805Z"
    }
   },
   "outputs": [
    {
     "data": {
      "text/plain": [
       "0"
      ]
     },
     "execution_count": 4,
     "metadata": {},
     "output_type": "execute_result"
    }
   ],
   "source": [
    "# zero dimensional array\n",
    "\n",
    "z = np.array(10)\n",
    "z.ndim"
   ]
  },
  {
   "cell_type": "code",
   "execution_count": 5,
   "id": "c3cecafb",
   "metadata": {
    "ExecuteTime": {
     "end_time": "2022-11-29T05:45:28.714534Z",
     "start_time": "2022-11-29T05:45:28.689538Z"
    }
   },
   "outputs": [
    {
     "data": {
      "text/plain": [
       "1"
      ]
     },
     "execution_count": 5,
     "metadata": {},
     "output_type": "execute_result"
    }
   ],
   "source": [
    "#1 dimensional array\n",
    "\n",
    "b = np.array([10,11,12,13])\n",
    "b.ndim"
   ]
  },
  {
   "cell_type": "code",
   "execution_count": 6,
   "id": "73579ab1",
   "metadata": {
    "ExecuteTime": {
     "end_time": "2022-11-29T05:46:40.705394Z",
     "start_time": "2022-11-29T05:46:40.685347Z"
    }
   },
   "outputs": [
    {
     "data": {
      "text/plain": [
       "2"
      ]
     },
     "execution_count": 6,
     "metadata": {},
     "output_type": "execute_result"
    }
   ],
   "source": [
    "# 2 Dimenstional array\n",
    "\n",
    "c = np.array([[10,12,13,14,15]])\n",
    "c.ndim"
   ]
  },
  {
   "cell_type": "code",
   "execution_count": 9,
   "id": "c4a2bca1",
   "metadata": {
    "ExecuteTime": {
     "end_time": "2022-11-29T05:49:43.820814Z",
     "start_time": "2022-11-29T05:49:43.807811Z"
    }
   },
   "outputs": [
    {
     "data": {
      "text/plain": [
       "3"
      ]
     },
     "execution_count": 9,
     "metadata": {},
     "output_type": "execute_result"
    }
   ],
   "source": [
    "# 3 Dimenstional array\n",
    "\n",
    "three = np.array([[[10,12,13,14,15]]])\n",
    "\n",
    "three.ndim"
   ]
  },
  {
   "cell_type": "code",
   "execution_count": 10,
   "id": "26f48712",
   "metadata": {
    "ExecuteTime": {
     "end_time": "2022-11-29T05:50:38.061690Z",
     "start_time": "2022-11-29T05:50:38.033695Z"
    }
   },
   "outputs": [
    {
     "data": {
      "text/plain": [
       "dtype('int32')"
      ]
     },
     "execution_count": 10,
     "metadata": {},
     "output_type": "execute_result"
    }
   ],
   "source": [
    "# change data typeinto other type\n",
    "\n",
    "a = np.array([12,13,14,15,18,17])\n",
    "\n",
    "a.dtype"
   ]
  },
  {
   "cell_type": "markdown",
   "id": "b423ceb8",
   "metadata": {},
   "source": [
    "* Change the data type of array elements"
   ]
  },
  {
   "cell_type": "code",
   "execution_count": 13,
   "id": "6e134c64",
   "metadata": {
    "ExecuteTime": {
     "end_time": "2022-11-29T05:53:23.252186Z",
     "start_time": "2022-11-29T05:53:23.235187Z"
    }
   },
   "outputs": [
    {
     "name": "stdout",
     "output_type": "stream",
     "text": [
      "float64\n",
      "Hello\n"
     ]
    },
    {
     "data": {
      "text/plain": [
       "array([11., 12., 13., 14., 15.])"
      ]
     },
     "execution_count": 13,
     "metadata": {},
     "output_type": "execute_result"
    }
   ],
   "source": [
    "a = np.array([11,12,13,14,15],dtype = 'float')\n",
    "print(a.dtype)\n",
    "print('Hello')\n",
    "a"
   ]
  },
  {
   "cell_type": "markdown",
   "id": "2faf1df7",
   "metadata": {},
   "source": [
    "* Other ways of creating an array\n",
    "* 1 arrange\n",
    "* 2 linspace\n",
    "* 3 zer"
   ]
  },
  {
   "cell_type": "code",
   "execution_count": 20,
   "id": "cd4e8dee",
   "metadata": {
    "ExecuteTime": {
     "end_time": "2022-11-29T05:56:51.754191Z",
     "start_time": "2022-11-29T05:56:51.735241Z"
    }
   },
   "outputs": [
    {
     "data": {
      "text/plain": [
       "array([ 1,  3,  5,  7,  9, 11, 13, 15, 17, 19])"
      ]
     },
     "execution_count": 20,
     "metadata": {},
     "output_type": "execute_result"
    }
   ],
   "source": [
    "# Arrange\n",
    "\n",
    "a = np.arange(1,21,2)\n",
    "a"
   ]
  },
  {
   "cell_type": "code",
   "execution_count": 21,
   "id": "f3924cf0",
   "metadata": {
    "ExecuteTime": {
     "end_time": "2022-11-29T05:57:37.429612Z",
     "start_time": "2022-11-29T05:57:37.408564Z"
    }
   },
   "outputs": [
    {
     "data": {
      "text/plain": [
       "array([1.        , 1.28571429, 1.57142857, 1.85714286, 2.14285714,\n",
       "       2.42857143, 2.71428571, 3.        , 3.28571429, 3.57142857,\n",
       "       3.85714286, 4.14285714, 4.42857143, 4.71428571, 5.        ])"
      ]
     },
     "execution_count": 21,
     "metadata": {},
     "output_type": "execute_result"
    }
   ],
   "source": [
    "# 2 Linespace\n",
    "\n",
    "b = np.linspace(1,5,15)\n",
    "\n",
    "b"
   ]
  },
  {
   "cell_type": "code",
   "execution_count": 22,
   "id": "bd663211",
   "metadata": {
    "ExecuteTime": {
     "end_time": "2022-11-29T05:58:41.964898Z",
     "start_time": "2022-11-29T05:58:41.942852Z"
    }
   },
   "outputs": [
    {
     "data": {
      "text/plain": [
       "array([[0.61057695, 0.99989222, 0.78086187, 0.13431641, 0.82987479],\n",
       "       [0.71615847, 0.6391529 , 0.70592094, 0.8517119 , 0.28480068],\n",
       "       [0.16832914, 0.12073389, 0.71854269, 0.65133769, 0.11609581],\n",
       "       [0.46257923, 0.940044  , 0.96687632, 0.85344875, 0.68652476],\n",
       "       [0.06672835, 0.1328488 , 0.66142005, 0.80345431, 0.6016389 ]])"
      ]
     },
     "execution_count": 22,
     "metadata": {},
     "output_type": "execute_result"
    }
   ],
   "source": [
    "# Random\n",
    "\n",
    "r = np.random.rand(5,5)\n",
    "r"
   ]
  },
  {
   "cell_type": "code",
   "execution_count": 23,
   "id": "94665e09",
   "metadata": {
    "ExecuteTime": {
     "end_time": "2022-11-29T06:00:45.378754Z",
     "start_time": "2022-11-29T06:00:45.357756Z"
    }
   },
   "outputs": [
    {
     "data": {
      "text/plain": [
       "array([0, 2, 4, 4, 2, 2, 4, 2, 4, 0])"
      ]
     },
     "execution_count": 23,
     "metadata": {},
     "output_type": "execute_result"
    }
   ],
   "source": [
    "R1 = np.random.randint(5,size=10)\n",
    "R1"
   ]
  },
  {
   "cell_type": "markdown",
   "id": "044cf2d0",
   "metadata": {},
   "source": [
    "# Slicing and Indexing of arrays"
   ]
  },
  {
   "cell_type": "code",
   "execution_count": 25,
   "id": "56eaf7a3",
   "metadata": {
    "ExecuteTime": {
     "end_time": "2022-11-29T06:02:24.259092Z",
     "start_time": "2022-11-29T06:02:24.244062Z"
    }
   },
   "outputs": [
    {
     "data": {
      "text/plain": [
       "array([[1, 2, 3],\n",
       "       [4, 5, 6]])"
      ]
     },
     "execution_count": 25,
     "metadata": {},
     "output_type": "execute_result"
    }
   ],
   "source": [
    "a = np.array([[1,2,3],[4,5,6]])\n",
    "\n",
    "a"
   ]
  },
  {
   "cell_type": "code",
   "execution_count": 26,
   "id": "1f0e4c23",
   "metadata": {
    "ExecuteTime": {
     "end_time": "2022-11-29T06:02:44.269960Z",
     "start_time": "2022-11-29T06:02:44.254910Z"
    }
   },
   "outputs": [
    {
     "data": {
      "text/plain": [
       "1"
      ]
     },
     "execution_count": 26,
     "metadata": {},
     "output_type": "execute_result"
    }
   ],
   "source": [
    "a[0,0]"
   ]
  },
  {
   "cell_type": "code",
   "execution_count": 28,
   "id": "6418015b",
   "metadata": {
    "ExecuteTime": {
     "end_time": "2022-11-29T06:03:53.437960Z",
     "start_time": "2022-11-29T06:03:53.417933Z"
    }
   },
   "outputs": [
    {
     "data": {
      "text/plain": [
       "6"
      ]
     },
     "execution_count": 28,
     "metadata": {},
     "output_type": "execute_result"
    }
   ],
   "source": [
    "# Find (6)\n",
    "\n",
    "a[1,2]"
   ]
  },
  {
   "cell_type": "code",
   "execution_count": 29,
   "id": "ebefff2b",
   "metadata": {
    "ExecuteTime": {
     "end_time": "2022-11-29T06:04:37.695435Z",
     "start_time": "2022-11-29T06:04:37.679387Z"
    }
   },
   "outputs": [
    {
     "data": {
      "text/plain": [
       "array([2, 3])"
      ]
     },
     "execution_count": 29,
     "metadata": {},
     "output_type": "execute_result"
    }
   ],
   "source": [
    "# Find (2,3)\n",
    "\n",
    "a[0,1:]"
   ]
  },
  {
   "cell_type": "code",
   "execution_count": 30,
   "id": "5c168ccb",
   "metadata": {
    "ExecuteTime": {
     "end_time": "2022-11-29T06:05:44.961566Z",
     "start_time": "2022-11-29T06:05:44.941568Z"
    }
   },
   "outputs": [
    {
     "data": {
      "text/plain": [
       "array([[2, 3],\n",
       "       [5, 6]])"
      ]
     },
     "execution_count": 30,
     "metadata": {},
     "output_type": "execute_result"
    }
   ],
   "source": [
    "# Find (2,3),(5,6)\n",
    "\n",
    "a[0:,1:]"
   ]
  },
  {
   "cell_type": "code",
   "execution_count": 32,
   "id": "f540189e",
   "metadata": {
    "ExecuteTime": {
     "end_time": "2022-11-29T06:08:25.443329Z",
     "start_time": "2022-11-29T06:08:25.416285Z"
    }
   },
   "outputs": [
    {
     "data": {
      "text/plain": [
       "array([3, 4])"
      ]
     },
     "execution_count": 32,
     "metadata": {},
     "output_type": "execute_result"
    }
   ],
   "source": [
    "# 3 and 4\n",
    "\n",
    "a[[0,1],[2,0]]"
   ]
  },
  {
   "cell_type": "markdown",
   "id": "acae2a32",
   "metadata": {},
   "source": [
    "# Reshaping the arrays"
   ]
  },
  {
   "cell_type": "code",
   "execution_count": 33,
   "id": "7885f689",
   "metadata": {
    "ExecuteTime": {
     "end_time": "2022-11-29T06:09:03.888074Z",
     "start_time": "2022-11-29T06:09:03.875117Z"
    }
   },
   "outputs": [],
   "source": [
    "a = np.random.rand(5,2)"
   ]
  },
  {
   "cell_type": "code",
   "execution_count": 34,
   "id": "c832ebe3",
   "metadata": {
    "ExecuteTime": {
     "end_time": "2022-11-29T06:10:02.149769Z",
     "start_time": "2022-11-29T06:10:02.125770Z"
    }
   },
   "outputs": [
    {
     "data": {
      "text/plain": [
       "array([[0.50726336, 0.00792032],\n",
       "       [0.06216138, 0.01030762],\n",
       "       [0.26806785, 0.14225372],\n",
       "       [0.38346238, 0.56100614],\n",
       "       [0.34442216, 0.82510355]])"
      ]
     },
     "execution_count": 34,
     "metadata": {},
     "output_type": "execute_result"
    }
   ],
   "source": [
    "a"
   ]
  },
  {
   "cell_type": "code",
   "execution_count": 35,
   "id": "e95532f4",
   "metadata": {
    "ExecuteTime": {
     "end_time": "2022-11-29T06:10:17.185903Z",
     "start_time": "2022-11-29T06:10:17.167903Z"
    }
   },
   "outputs": [
    {
     "data": {
      "text/plain": [
       "array([[0.50726336, 0.00792032, 0.06216138, 0.01030762, 0.26806785],\n",
       "       [0.14225372, 0.38346238, 0.56100614, 0.34442216, 0.82510355]])"
      ]
     },
     "execution_count": 35,
     "metadata": {},
     "output_type": "execute_result"
    }
   ],
   "source": [
    "a.reshape(2,5)"
   ]
  },
  {
   "cell_type": "code",
   "execution_count": 36,
   "id": "bcd020a2",
   "metadata": {
    "ExecuteTime": {
     "end_time": "2022-11-29T06:11:14.327570Z",
     "start_time": "2022-11-29T06:11:14.306614Z"
    }
   },
   "outputs": [
    {
     "data": {
      "text/plain": [
       "array([[0.50726336],\n",
       "       [0.00792032],\n",
       "       [0.06216138],\n",
       "       [0.01030762],\n",
       "       [0.26806785],\n",
       "       [0.14225372],\n",
       "       [0.38346238],\n",
       "       [0.56100614],\n",
       "       [0.34442216],\n",
       "       [0.82510355]])"
      ]
     },
     "execution_count": 36,
     "metadata": {},
     "output_type": "execute_result"
    }
   ],
   "source": [
    "a.reshape(10,1)"
   ]
  },
  {
   "cell_type": "code",
   "execution_count": 37,
   "id": "3f0d7655",
   "metadata": {
    "ExecuteTime": {
     "end_time": "2022-11-29T06:11:29.243757Z",
     "start_time": "2022-11-29T06:11:29.224747Z"
    }
   },
   "outputs": [
    {
     "data": {
      "text/plain": [
       "array([[0.50726336, 0.00792032],\n",
       "       [0.06216138, 0.01030762],\n",
       "       [0.26806785, 0.14225372],\n",
       "       [0.38346238, 0.56100614],\n",
       "       [0.34442216, 0.82510355]])"
      ]
     },
     "execution_count": 37,
     "metadata": {},
     "output_type": "execute_result"
    }
   ],
   "source": [
    "a.reshape(5,2)"
   ]
  },
  {
   "cell_type": "code",
   "execution_count": 38,
   "id": "7265311d",
   "metadata": {
    "ExecuteTime": {
     "end_time": "2022-11-29T06:11:49.708581Z",
     "start_time": "2022-11-29T06:11:49.694533Z"
    }
   },
   "outputs": [
    {
     "data": {
      "text/plain": [
       "array([[0.50726336, 0.00792032, 0.06216138, 0.01030762, 0.26806785,\n",
       "        0.14225372, 0.38346238, 0.56100614, 0.34442216, 0.82510355]])"
      ]
     },
     "execution_count": 38,
     "metadata": {},
     "output_type": "execute_result"
    }
   ],
   "source": [
    "a.reshape(1,10)"
   ]
  },
  {
   "cell_type": "code",
   "execution_count": 39,
   "id": "698bc8ed",
   "metadata": {
    "ExecuteTime": {
     "end_time": "2022-11-29T06:12:10.638377Z",
     "start_time": "2022-11-29T06:12:10.620328Z"
    }
   },
   "outputs": [
    {
     "data": {
      "text/plain": [
       "array([[0.50726336, 0.00792032],\n",
       "       [0.06216138, 0.01030762],\n",
       "       [0.26806785, 0.14225372],\n",
       "       [0.38346238, 0.56100614],\n",
       "       [0.34442216, 0.82510355]])"
      ]
     },
     "execution_count": 39,
     "metadata": {},
     "output_type": "execute_result"
    }
   ],
   "source": [
    "a.reshape(5,-1)"
   ]
  },
  {
   "cell_type": "markdown",
   "id": "c7cd4ff4",
   "metadata": {},
   "source": [
    "# Aggregate Function"
   ]
  },
  {
   "cell_type": "code",
   "execution_count": null,
   "id": "0820ea6a",
   "metadata": {},
   "outputs": [],
   "source": []
  },
  {
   "cell_type": "code",
   "execution_count": 40,
   "id": "7a661cb6",
   "metadata": {
    "ExecuteTime": {
     "end_time": "2022-11-29T06:15:47.861830Z",
     "start_time": "2022-11-29T06:15:47.838835Z"
    }
   },
   "outputs": [
    {
     "data": {
      "text/plain": [
       "0.007920320944470371"
      ]
     },
     "execution_count": 40,
     "metadata": {},
     "output_type": "execute_result"
    }
   ],
   "source": [
    "a.min()"
   ]
  },
  {
   "cell_type": "code",
   "execution_count": 41,
   "id": "2ef05401",
   "metadata": {
    "ExecuteTime": {
     "end_time": "2022-11-29T06:15:56.995353Z",
     "start_time": "2022-11-29T06:15:56.977354Z"
    }
   },
   "outputs": [
    {
     "data": {
      "text/plain": [
       "0.25420555061863004"
      ]
     },
     "execution_count": 41,
     "metadata": {},
     "output_type": "execute_result"
    }
   ],
   "source": [
    "a.std()"
   ]
  },
  {
   "cell_type": "code",
   "execution_count": 42,
   "id": "69bf064b",
   "metadata": {
    "ExecuteTime": {
     "end_time": "2022-11-29T06:16:04.235937Z",
     "start_time": "2022-11-29T06:16:04.211893Z"
    }
   },
   "outputs": [
    {
     "data": {
      "text/plain": [
       "0.06462046196532087"
      ]
     },
     "execution_count": 42,
     "metadata": {},
     "output_type": "execute_result"
    }
   ],
   "source": [
    "a.var()"
   ]
  },
  {
   "cell_type": "code",
   "execution_count": null,
   "id": "7ab9c9e7",
   "metadata": {},
   "outputs": [],
   "source": []
  },
  {
   "cell_type": "markdown",
   "id": "7bf0fcc5",
   "metadata": {
    "ExecuteTime": {
     "end_time": "2022-11-29T06:17:00.192672Z",
     "start_time": "2022-11-29T06:17:00.186696Z"
    }
   },
   "source": [
    "# Stacking\n",
    "\n",
    "* vertical stacking\n",
    "* Horizontal Staking"
   ]
  },
  {
   "cell_type": "code",
   "execution_count": 44,
   "id": "17ec49cf",
   "metadata": {
    "ExecuteTime": {
     "end_time": "2022-11-29T06:18:15.847362Z",
     "start_time": "2022-11-29T06:18:15.832317Z"
    }
   },
   "outputs": [],
   "source": [
    "a = np.array([1,2,3,4,5])\n",
    "b = np.array([4,5,6,7,8])"
   ]
  },
  {
   "cell_type": "code",
   "execution_count": 45,
   "id": "d3c7ee80",
   "metadata": {
    "ExecuteTime": {
     "end_time": "2022-11-29T06:18:33.319311Z",
     "start_time": "2022-11-29T06:18:33.298312Z"
    }
   },
   "outputs": [
    {
     "data": {
      "text/plain": [
       "array([1, 2, 3, 4, 5, 4, 5, 6, 7, 8])"
      ]
     },
     "execution_count": 45,
     "metadata": {},
     "output_type": "execute_result"
    }
   ],
   "source": [
    "np.hstack([a,b])"
   ]
  },
  {
   "cell_type": "code",
   "execution_count": 46,
   "id": "685d0df0",
   "metadata": {
    "ExecuteTime": {
     "end_time": "2022-11-29T06:18:51.787248Z",
     "start_time": "2022-11-29T06:18:51.770249Z"
    }
   },
   "outputs": [
    {
     "data": {
      "text/plain": [
       "array([[1, 2, 3, 4, 5],\n",
       "       [4, 5, 6, 7, 8]])"
      ]
     },
     "execution_count": 46,
     "metadata": {},
     "output_type": "execute_result"
    }
   ],
   "source": [
    "np.vstack([a,b])"
   ]
  },
  {
   "cell_type": "code",
   "execution_count": null,
   "id": "d8b25602",
   "metadata": {},
   "outputs": [],
   "source": []
  }
 ],
 "metadata": {
  "kernelspec": {
   "display_name": "Python 3 (ipykernel)",
   "language": "python",
   "name": "python3"
  },
  "language_info": {
   "codemirror_mode": {
    "name": "ipython",
    "version": 3
   },
   "file_extension": ".py",
   "mimetype": "text/x-python",
   "name": "python",
   "nbconvert_exporter": "python",
   "pygments_lexer": "ipython3",
   "version": "3.9.12"
  }
 },
 "nbformat": 4,
 "nbformat_minor": 5
}
